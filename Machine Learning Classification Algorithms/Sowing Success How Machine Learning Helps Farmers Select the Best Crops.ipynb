{
 "cells": [
  {
   "cell_type": "markdown",
   "id": "d3d001b0-2e2f-4b58-8442-99520bad831f",
   "metadata": {},
   "source": [
    "# Sowing Success: How Machine Learning Helps Farmers Select the Best Crops\n",
    "\n",
    "![Farmer in a field](farmer_in_a_field.jpg)\n",
    "\n",
    "Measuring essential soil metrics such as nitrogen, phosphorous, potassium levels, and pH value is an important aspect of assessing soil condition. However, it can be an expensive and time-consuming process, which can cause farmers to prioritize which metrics to measure based on their budget constraints.\n",
    "\n",
    "Farmers have various options when it comes to deciding which crop to plant each season. Their primary objective is to maximize the yield of their crops, taking into account different factors. One crucial factor that affects crop growth is the condition of the soil in the field, which can be assessed by measuring basic elements such as nitrogen and potassium levels. Each crop has an ideal soil condition that ensures optimal growth and maximum yield.\n",
    "\n",
    "A farmer reached out to you as a machine learning expert for assistance in selecting the best crop for his field. They've provided you with a dataset called `soil_measures.csv`, which contains:\n",
    "\n",
    "- `\"N\"`: Nitrogen content ratio in the soil\n",
    "- `\"P\"`: Phosphorous content ratio in the soil\n",
    "- `\"K\"`: Potassium content ratio in the soil\n",
    "- `\"pH\"` value of the soil\n",
    "- `\"crop\"`: categorical values that contain various crops (target variable).\n",
    "\n",
    "Each row in this dataset represents various measures of the soil in a particular field. Based on these measurements, the crop specified in the `\"crop\"` column is the optimal choice for that field.  \n",
    "\n",
    "In this project, you will build multi-class classification models to predict the type of `\"crop\"` and identify the single most importance feature for predictive performance."
   ]
  },
  {
   "cell_type": "markdown",
   "id": "db45c47c-4c80-483b-8219-299773eb167b",
   "metadata": {},
   "source": [
    "**Data Collection**"
   ]
  },
  {
   "cell_type": "code",
   "execution_count": 154,
   "id": "d0eb4f16-5a99-460d-a5ba-706b7ef0bbe7",
   "metadata": {
    "executionCancelledAt": null,
    "executionTime": 52,
    "id": "bA5ajAmk7XH6",
    "lastExecutedAt": 1724710211507,
    "lastExecutedByKernel": "1b8b69a8-305d-4022-89d5-5178dad17218",
    "lastScheduledRunId": null,
    "lastSuccessfullyExecutedCode": "# All required libraries are imported here for you.\nimport pandas as pd\nfrom sklearn.linear_model import LogisticRegression\nfrom sklearn.model_selection import train_test_split\nfrom sklearn import metrics\n\n# Load the dataset\ncrops = pd.read_csv(\"soil_measures.csv\")\n\n# Write your code here\n"
   },
   "outputs": [],
   "source": [
    "# All required libraries are imported here for you.\n",
    "import pandas as pd\n",
    "from sklearn.linear_model import LogisticRegression\n",
    "from sklearn.model_selection import train_test_split\n",
    "from sklearn import metrics\n",
    "\n",
    "# Load the dataset\n",
    "crops = pd.read_csv(\"soil_measures.csv\")\n",
    "\n",
    "# Write your code here\n"
   ]
  },
  {
   "cell_type": "markdown",
   "id": "a3a2d8e4-f1d5-4e28-aa91-b273513ccf25",
   "metadata": {},
   "source": [
    "**Data Understanding**\n"
   ]
  },
  {
   "cell_type": "code",
   "execution_count": 126,
   "id": "43cf3e07-3056-498e-87ff-6e261e3af110",
   "metadata": {
    "executionCancelledAt": null,
    "executionTime": 38,
    "lastExecutedAt": 1724709817484,
    "lastExecutedByKernel": "1b8b69a8-305d-4022-89d5-5178dad17218",
    "lastScheduledRunId": null,
    "lastSuccessfullyExecutedCode": "crops.dtypes",
    "outputsMetadata": {
     "0": {
      "height": 196,
      "type": "dataFrame"
     }
    }
   },
   "outputs": [
    {
     "data": {
      "text/plain": [
       "N         int64\n",
       "P         int64\n",
       "K         int64\n",
       "ph      float64\n",
       "crop     object\n",
       "dtype: object"
      ]
     },
     "execution_count": 126,
     "metadata": {},
     "output_type": "execute_result"
    }
   ],
   "source": [
    "crops.dtypes"
   ]
  },
  {
   "cell_type": "code",
   "execution_count": 111,
   "id": "f5fb758f-4b8a-4108-b7d9-78b57d3f5d26",
   "metadata": {
    "executionCancelledAt": null,
    "executionTime": 11,
    "lastExecutedAt": 1724709585556,
    "lastExecutedByKernel": "1b8b69a8-305d-4022-89d5-5178dad17218",
    "lastScheduledRunId": null,
    "lastSuccessfullyExecutedCode": "crops.shape"
   },
   "outputs": [
    {
     "data": {
      "text/plain": [
       "(2200, 5)"
      ]
     },
     "execution_count": 111,
     "metadata": {},
     "output_type": "execute_result"
    }
   ],
   "source": [
    "crops.shape"
   ]
  },
  {
   "cell_type": "code",
   "execution_count": 112,
   "id": "d87f573a-f53f-49ac-b1fe-1fa663616504",
   "metadata": {
    "chartConfig": {
     "bar": {
      "hasRoundedCorners": true,
      "stacked": false
     },
     "type": "bar",
     "version": "v1"
    },
    "executionCancelledAt": null,
    "executionTime": 20,
    "lastExecutedAt": 1724709587837,
    "lastExecutedByKernel": "1b8b69a8-305d-4022-89d5-5178dad17218",
    "lastScheduledRunId": null,
    "lastSuccessfullyExecutedCode": "crops.head()",
    "outputsMetadata": {
     "0": {
      "height": 196,
      "type": "dataFrame"
     }
    },
    "visualizeDataframe": false
   },
   "outputs": [
    {
     "data": {
      "application/com.datacamp.data-table.v2+json": {
       "table": {
        "data": {
         "K": [
          43,
          41,
          44,
          40,
          42
         ],
         "N": [
          90,
          85,
          60,
          74,
          78
         ],
         "P": [
          42,
          58,
          55,
          35,
          42
         ],
         "crop": [
          "rice",
          "rice",
          "rice",
          "rice",
          "rice"
         ],
         "index": [
          0,
          1,
          2,
          3,
          4
         ],
         "ph": [
          6.502985292,
          7.038096361,
          7.840207144,
          6.980400905,
          7.628472891
         ]
        },
        "schema": {
         "fields": [
          {
           "name": "index",
           "type": "integer"
          },
          {
           "name": "N",
           "type": "integer"
          },
          {
           "name": "P",
           "type": "integer"
          },
          {
           "name": "K",
           "type": "integer"
          },
          {
           "name": "ph",
           "type": "number"
          },
          {
           "name": "crop",
           "type": "string"
          }
         ],
         "pandas_version": "1.4.0",
         "primaryKey": [
          "index"
         ]
        }
       },
       "total_rows": 5,
       "truncation_type": null
      },
      "text/html": [
       "<div>\n",
       "<style scoped>\n",
       "    .dataframe tbody tr th:only-of-type {\n",
       "        vertical-align: middle;\n",
       "    }\n",
       "\n",
       "    .dataframe tbody tr th {\n",
       "        vertical-align: top;\n",
       "    }\n",
       "\n",
       "    .dataframe thead th {\n",
       "        text-align: right;\n",
       "    }\n",
       "</style>\n",
       "<table border=\"1\" class=\"dataframe\">\n",
       "  <thead>\n",
       "    <tr style=\"text-align: right;\">\n",
       "      <th></th>\n",
       "      <th>N</th>\n",
       "      <th>P</th>\n",
       "      <th>K</th>\n",
       "      <th>ph</th>\n",
       "      <th>crop</th>\n",
       "    </tr>\n",
       "  </thead>\n",
       "  <tbody>\n",
       "    <tr>\n",
       "      <th>0</th>\n",
       "      <td>90</td>\n",
       "      <td>42</td>\n",
       "      <td>43</td>\n",
       "      <td>6.502985</td>\n",
       "      <td>rice</td>\n",
       "    </tr>\n",
       "    <tr>\n",
       "      <th>1</th>\n",
       "      <td>85</td>\n",
       "      <td>58</td>\n",
       "      <td>41</td>\n",
       "      <td>7.038096</td>\n",
       "      <td>rice</td>\n",
       "    </tr>\n",
       "    <tr>\n",
       "      <th>2</th>\n",
       "      <td>60</td>\n",
       "      <td>55</td>\n",
       "      <td>44</td>\n",
       "      <td>7.840207</td>\n",
       "      <td>rice</td>\n",
       "    </tr>\n",
       "    <tr>\n",
       "      <th>3</th>\n",
       "      <td>74</td>\n",
       "      <td>35</td>\n",
       "      <td>40</td>\n",
       "      <td>6.980401</td>\n",
       "      <td>rice</td>\n",
       "    </tr>\n",
       "    <tr>\n",
       "      <th>4</th>\n",
       "      <td>78</td>\n",
       "      <td>42</td>\n",
       "      <td>42</td>\n",
       "      <td>7.628473</td>\n",
       "      <td>rice</td>\n",
       "    </tr>\n",
       "  </tbody>\n",
       "</table>\n",
       "</div>"
      ],
      "text/plain": [
       "    N   P   K        ph  crop\n",
       "0  90  42  43  6.502985  rice\n",
       "1  85  58  41  7.038096  rice\n",
       "2  60  55  44  7.840207  rice\n",
       "3  74  35  40  6.980401  rice\n",
       "4  78  42  42  7.628473  rice"
      ]
     },
     "execution_count": 112,
     "metadata": {},
     "output_type": "execute_result"
    }
   ],
   "source": [
    "crops.head()"
   ]
  },
  {
   "cell_type": "code",
   "execution_count": 113,
   "id": "5432f896-862e-4a87-bb4a-d71d88d14c9c",
   "metadata": {
    "executionCancelledAt": null,
    "executionTime": 14,
    "lastExecutedAt": 1724709591270,
    "lastExecutedByKernel": "1b8b69a8-305d-4022-89d5-5178dad17218",
    "lastScheduledRunId": null,
    "lastSuccessfullyExecutedCode": "crops['crop'].value_counts()",
    "outputsMetadata": {
     "0": {
      "height": 321,
      "type": "dataFrame"
     }
    }
   },
   "outputs": [
    {
     "data": {
      "application/com.datacamp.data-table.v2+json": {
       "table": {
        "data": {
         "crop": [
          100,
          100,
          100,
          100,
          100,
          100,
          100,
          100,
          100,
          100,
          100,
          100,
          100,
          100,
          100,
          100,
          100,
          100,
          100,
          100,
          100,
          100
         ],
         "index": [
          "rice",
          "maize",
          "jute",
          "cotton",
          "coconut",
          "papaya",
          "orange",
          "apple",
          "muskmelon",
          "watermelon",
          "grapes",
          "mango",
          "banana",
          "pomegranate",
          "lentil",
          "blackgram",
          "mungbean",
          "mothbeans",
          "pigeonpeas",
          "kidneybeans",
          "chickpea",
          "coffee"
         ]
        },
        "schema": {
         "fields": [
          {
           "name": "index",
           "type": "string"
          },
          {
           "name": "crop",
           "type": "integer"
          }
         ],
         "pandas_version": "1.4.0",
         "primaryKey": [
          "index"
         ]
        }
       },
       "total_rows": 22,
       "truncation_type": null
      },
      "text/plain": [
       "rice           100\n",
       "maize          100\n",
       "jute           100\n",
       "cotton         100\n",
       "coconut        100\n",
       "papaya         100\n",
       "orange         100\n",
       "apple          100\n",
       "muskmelon      100\n",
       "watermelon     100\n",
       "grapes         100\n",
       "mango          100\n",
       "banana         100\n",
       "pomegranate    100\n",
       "lentil         100\n",
       "blackgram      100\n",
       "mungbean       100\n",
       "mothbeans      100\n",
       "pigeonpeas     100\n",
       "kidneybeans    100\n",
       "chickpea       100\n",
       "coffee         100\n",
       "Name: crop, dtype: int64"
      ]
     },
     "execution_count": 113,
     "metadata": {},
     "output_type": "execute_result"
    }
   ],
   "source": [
    "crops['crop'].value_counts()"
   ]
  },
  {
   "cell_type": "code",
   "execution_count": 33,
   "id": "8185db10-4519-48f6-ad7f-628b982f9b3f",
   "metadata": {
    "executionCancelledAt": null,
    "executionTime": 1003,
    "lastExecutedAt": 1724698835665,
    "lastExecutedByKernel": "1b8b69a8-305d-4022-89d5-5178dad17218",
    "lastScheduledRunId": null,
    "lastSuccessfullyExecutedCode": "crops['crop'].nunique()"
   },
   "outputs": [
    {
     "data": {
      "text/plain": [
       "22"
      ]
     },
     "execution_count": 33,
     "metadata": {},
     "output_type": "execute_result"
    }
   ],
   "source": [
    "crops['crop'].nunique()"
   ]
  },
  {
   "cell_type": "code",
   "execution_count": 21,
   "id": "1b533e01-e61c-45a4-877c-9a6915852b15",
   "metadata": {
    "executionCancelledAt": null,
    "executionTime": null,
    "lastExecutedAt": null,
    "lastExecutedByKernel": null,
    "lastScheduledRunId": null,
    "lastSuccessfullyExecutedCode": null,
    "outputsMetadata": {
     "0": {
      "height": 271,
      "type": "dataFrame"
     }
    }
   },
   "outputs": [
    {
     "data": {
      "application/com.datacamp.data-table.v2+json": {
       "table": {
        "data": {
         "K": [
          2200,
          48.1490909091,
          50.6479305467,
          5,
          20,
          32,
          49,
          205
         ],
         "N": [
          2200,
          50.5518181818,
          36.9173338338,
          0,
          21,
          37,
          84.25,
          140
         ],
         "P": [
          2200,
          53.3627272727,
          32.9858827386,
          5,
          28,
          51,
          68,
          145
         ],
         "index": [
          "count",
          "mean",
          "std",
          "min",
          "25%",
          "50%",
          "75%",
          "max"
         ],
         "ph": [
          2200,
          6.4694800653,
          0.773937688,
          3.504752314,
          5.9716927993,
          6.42504527,
          6.9236426213,
          9.93509073
         ]
        },
        "schema": {
         "fields": [
          {
           "name": "index",
           "type": "string"
          },
          {
           "name": "N",
           "type": "number"
          },
          {
           "name": "P",
           "type": "number"
          },
          {
           "name": "K",
           "type": "number"
          },
          {
           "name": "ph",
           "type": "number"
          }
         ],
         "pandas_version": "1.4.0",
         "primaryKey": [
          "index"
         ]
        }
       },
       "total_rows": 8,
       "truncation_type": null
      },
      "text/html": [
       "<div>\n",
       "<style scoped>\n",
       "    .dataframe tbody tr th:only-of-type {\n",
       "        vertical-align: middle;\n",
       "    }\n",
       "\n",
       "    .dataframe tbody tr th {\n",
       "        vertical-align: top;\n",
       "    }\n",
       "\n",
       "    .dataframe thead th {\n",
       "        text-align: right;\n",
       "    }\n",
       "</style>\n",
       "<table border=\"1\" class=\"dataframe\">\n",
       "  <thead>\n",
       "    <tr style=\"text-align: right;\">\n",
       "      <th></th>\n",
       "      <th>N</th>\n",
       "      <th>P</th>\n",
       "      <th>K</th>\n",
       "      <th>ph</th>\n",
       "    </tr>\n",
       "  </thead>\n",
       "  <tbody>\n",
       "    <tr>\n",
       "      <th>count</th>\n",
       "      <td>2200.000000</td>\n",
       "      <td>2200.000000</td>\n",
       "      <td>2200.000000</td>\n",
       "      <td>2200.000000</td>\n",
       "    </tr>\n",
       "    <tr>\n",
       "      <th>mean</th>\n",
       "      <td>50.551818</td>\n",
       "      <td>53.362727</td>\n",
       "      <td>48.149091</td>\n",
       "      <td>6.469480</td>\n",
       "    </tr>\n",
       "    <tr>\n",
       "      <th>std</th>\n",
       "      <td>36.917334</td>\n",
       "      <td>32.985883</td>\n",
       "      <td>50.647931</td>\n",
       "      <td>0.773938</td>\n",
       "    </tr>\n",
       "    <tr>\n",
       "      <th>min</th>\n",
       "      <td>0.000000</td>\n",
       "      <td>5.000000</td>\n",
       "      <td>5.000000</td>\n",
       "      <td>3.504752</td>\n",
       "    </tr>\n",
       "    <tr>\n",
       "      <th>25%</th>\n",
       "      <td>21.000000</td>\n",
       "      <td>28.000000</td>\n",
       "      <td>20.000000</td>\n",
       "      <td>5.971693</td>\n",
       "    </tr>\n",
       "    <tr>\n",
       "      <th>50%</th>\n",
       "      <td>37.000000</td>\n",
       "      <td>51.000000</td>\n",
       "      <td>32.000000</td>\n",
       "      <td>6.425045</td>\n",
       "    </tr>\n",
       "    <tr>\n",
       "      <th>75%</th>\n",
       "      <td>84.250000</td>\n",
       "      <td>68.000000</td>\n",
       "      <td>49.000000</td>\n",
       "      <td>6.923643</td>\n",
       "    </tr>\n",
       "    <tr>\n",
       "      <th>max</th>\n",
       "      <td>140.000000</td>\n",
       "      <td>145.000000</td>\n",
       "      <td>205.000000</td>\n",
       "      <td>9.935091</td>\n",
       "    </tr>\n",
       "  </tbody>\n",
       "</table>\n",
       "</div>"
      ],
      "text/plain": [
       "                 N            P            K           ph\n",
       "count  2200.000000  2200.000000  2200.000000  2200.000000\n",
       "mean     50.551818    53.362727    48.149091     6.469480\n",
       "std      36.917334    32.985883    50.647931     0.773938\n",
       "min       0.000000     5.000000     5.000000     3.504752\n",
       "25%      21.000000    28.000000    20.000000     5.971693\n",
       "50%      37.000000    51.000000    32.000000     6.425045\n",
       "75%      84.250000    68.000000    49.000000     6.923643\n",
       "max     140.000000   145.000000   205.000000     9.935091"
      ]
     },
     "execution_count": 21,
     "metadata": {},
     "output_type": "execute_result"
    }
   ],
   "source": [
    "crops.describe()"
   ]
  },
  {
   "cell_type": "code",
   "execution_count": 29,
   "id": "81262332-c75f-48e7-ad5e-b0f7832dc02e",
   "metadata": {
    "executionCancelledAt": null,
    "executionTime": null,
    "lastExecutedAt": null,
    "lastExecutedByKernel": null,
    "lastScheduledRunId": null,
    "lastSuccessfullyExecutedCode": null,
    "outputsMetadata": {
     "0": {
      "height": 196,
      "type": "dataFrame"
     }
    }
   },
   "outputs": [
    {
     "data": {
      "application/com.datacamp.data-table.v2+json": {
       "table": {
        "data": {
         "0": [
          0,
          0,
          0,
          0,
          0
         ],
         "index": [
          "N",
          "P",
          "K",
          "ph",
          "crop"
         ]
        },
        "schema": {
         "fields": [
          {
           "name": "index",
           "type": "string"
          },
          {
           "name": "0",
           "type": "integer"
          }
         ],
         "pandas_version": "1.4.0",
         "primaryKey": [
          "index"
         ]
        }
       },
       "total_rows": 5,
       "truncation_type": null
      },
      "text/plain": [
       "N       0\n",
       "P       0\n",
       "K       0\n",
       "ph      0\n",
       "crop    0\n",
       "dtype: int64"
      ]
     },
     "execution_count": 29,
     "metadata": {},
     "output_type": "execute_result"
    }
   ],
   "source": [
    "crops.isnull().sum()"
   ]
  },
  {
   "cell_type": "markdown",
   "id": "934c95b3-6179-4b2c-a171-4a97c59f1bef",
   "metadata": {},
   "source": [
    "**Data Wrangling**"
   ]
  },
  {
   "cell_type": "code",
   "execution_count": 155,
   "id": "7ff24b0e-4e11-4bf1-a994-0dc784920574",
   "metadata": {
    "executionCancelledAt": null,
    "executionTime": 19,
    "lastExecutedAt": 1724710217570,
    "lastExecutedByKernel": "1b8b69a8-305d-4022-89d5-5178dad17218",
    "lastScheduledRunId": null,
    "lastSuccessfullyExecutedCode": "crops.head()",
    "outputsMetadata": {
     "0": {
      "height": 196,
      "type": "dataFrame"
     }
    }
   },
   "outputs": [
    {
     "data": {
      "application/com.datacamp.data-table.v2+json": {
       "table": {
        "data": {
         "K": [
          43,
          41,
          44,
          40,
          42
         ],
         "N": [
          90,
          85,
          60,
          74,
          78
         ],
         "P": [
          42,
          58,
          55,
          35,
          42
         ],
         "crop": [
          "rice",
          "rice",
          "rice",
          "rice",
          "rice"
         ],
         "index": [
          0,
          1,
          2,
          3,
          4
         ],
         "ph": [
          6.502985292,
          7.038096361,
          7.840207144,
          6.980400905,
          7.628472891
         ]
        },
        "schema": {
         "fields": [
          {
           "name": "index",
           "type": "integer"
          },
          {
           "name": "N",
           "type": "integer"
          },
          {
           "name": "P",
           "type": "integer"
          },
          {
           "name": "K",
           "type": "integer"
          },
          {
           "name": "ph",
           "type": "number"
          },
          {
           "name": "crop",
           "type": "string"
          }
         ],
         "pandas_version": "1.4.0",
         "primaryKey": [
          "index"
         ]
        }
       },
       "total_rows": 5,
       "truncation_type": null
      },
      "text/html": [
       "<div>\n",
       "<style scoped>\n",
       "    .dataframe tbody tr th:only-of-type {\n",
       "        vertical-align: middle;\n",
       "    }\n",
       "\n",
       "    .dataframe tbody tr th {\n",
       "        vertical-align: top;\n",
       "    }\n",
       "\n",
       "    .dataframe thead th {\n",
       "        text-align: right;\n",
       "    }\n",
       "</style>\n",
       "<table border=\"1\" class=\"dataframe\">\n",
       "  <thead>\n",
       "    <tr style=\"text-align: right;\">\n",
       "      <th></th>\n",
       "      <th>N</th>\n",
       "      <th>P</th>\n",
       "      <th>K</th>\n",
       "      <th>ph</th>\n",
       "      <th>crop</th>\n",
       "    </tr>\n",
       "  </thead>\n",
       "  <tbody>\n",
       "    <tr>\n",
       "      <th>0</th>\n",
       "      <td>90</td>\n",
       "      <td>42</td>\n",
       "      <td>43</td>\n",
       "      <td>6.502985</td>\n",
       "      <td>rice</td>\n",
       "    </tr>\n",
       "    <tr>\n",
       "      <th>1</th>\n",
       "      <td>85</td>\n",
       "      <td>58</td>\n",
       "      <td>41</td>\n",
       "      <td>7.038096</td>\n",
       "      <td>rice</td>\n",
       "    </tr>\n",
       "    <tr>\n",
       "      <th>2</th>\n",
       "      <td>60</td>\n",
       "      <td>55</td>\n",
       "      <td>44</td>\n",
       "      <td>7.840207</td>\n",
       "      <td>rice</td>\n",
       "    </tr>\n",
       "    <tr>\n",
       "      <th>3</th>\n",
       "      <td>74</td>\n",
       "      <td>35</td>\n",
       "      <td>40</td>\n",
       "      <td>6.980401</td>\n",
       "      <td>rice</td>\n",
       "    </tr>\n",
       "    <tr>\n",
       "      <th>4</th>\n",
       "      <td>78</td>\n",
       "      <td>42</td>\n",
       "      <td>42</td>\n",
       "      <td>7.628473</td>\n",
       "      <td>rice</td>\n",
       "    </tr>\n",
       "  </tbody>\n",
       "</table>\n",
       "</div>"
      ],
      "text/plain": [
       "    N   P   K        ph  crop\n",
       "0  90  42  43  6.502985  rice\n",
       "1  85  58  41  7.038096  rice\n",
       "2  60  55  44  7.840207  rice\n",
       "3  74  35  40  6.980401  rice\n",
       "4  78  42  42  7.628473  rice"
      ]
     },
     "execution_count": 155,
     "metadata": {},
     "output_type": "execute_result"
    }
   ],
   "source": [
    "crops.head()"
   ]
  },
  {
   "cell_type": "code",
   "execution_count": 156,
   "id": "b0e55394-0616-4123-934b-a3e09f88d765",
   "metadata": {
    "executionCancelledAt": null,
    "executionTime": 264,
    "lastExecutedAt": 1724710220307,
    "lastExecutedByKernel": "1b8b69a8-305d-4022-89d5-5178dad17218",
    "lastScheduledRunId": null,
    "lastSuccessfullyExecutedCode": "import matplotlib.pyplot as plt\n\n# Boxplot of N, P, K and ph columns\nplt.figure(figsize=(10, 6))\nplt.boxplot([crops['N'], crops['P'], crops['K'], crops['ph']], labels=['N', 'P', 'K', 'ph'])\nplt.title('Boxplot of N, P, K and ph')\nplt.xlabel('Features')\nplt.ylabel('Values')\nplt.grid(True)\nplt.show()"
   },
   "outputs": [
    {
     "data": {
      "image/png": "[encoded data removed]",
      "text/plain": [
       "<Figure size 1000x600 with 1 Axes>"
      ]
     },
     "metadata": {
      "image/png": {
       "height": 546,
       "width": 849
      }
     },
     "output_type": "display_data"
    }
   ],
   "source": [
    "import matplotlib.pyplot as plt\n",
    "\n",
    "# Boxplot of N, P, K and ph columns\n",
    "plt.figure(figsize=(10, 6))\n",
    "plt.boxplot([crops['N'], crops['P'], crops['K'], crops['ph']], labels=['N', 'P', 'K', 'ph'])\n",
    "plt.title('Boxplot of N, P, K and ph')\n",
    "plt.xlabel('Features')\n",
    "plt.ylabel('Values')\n",
    "plt.grid(True)\n",
    "plt.show()"
   ]
  },
  {
   "cell_type": "markdown",
   "id": "9bc57415-c54f-4126-9e41-afb83d3120e6",
   "metadata": {},
   "source": [
    "### As shown in the boxplot, there are some outliers in the dataset. In this case, we will use RobustScaler for normalization to improve data modeling, as this technique is less sensitive to outliers."
   ]
  },
  {
   "cell_type": "code",
   "execution_count": 157,
   "id": "b5d52c8b-33b3-4354-8d09-5e948a39d9db",
   "metadata": {
    "executionCancelledAt": null,
    "executionTime": 11,
    "lastExecutedAt": 1724710231682,
    "lastExecutedByKernel": "1b8b69a8-305d-4022-89d5-5178dad17218",
    "lastScheduledRunId": null,
    "lastSuccessfullyExecutedCode": "x= crops[['N', 'P', 'K', 'ph']]\ny = crops[['crop']]"
   },
   "outputs": [],
   "source": [
    "x= crops[['N', 'P', 'K', 'ph']]\n",
    "y = crops[['crop']]"
   ]
  },
  {
   "cell_type": "code",
   "execution_count": 145,
   "id": "17f4221f-4484-4a05-a819-92b6b77e1bd4",
   "metadata": {
    "executionCancelledAt": null,
    "executionTime": 13,
    "lastExecutedAt": 1724710006776,
    "lastExecutedByKernel": "1b8b69a8-305d-4022-89d5-5178dad17218",
    "lastScheduledRunId": null,
    "lastSuccessfullyExecutedCode": "from sklearn.preprocessing import MinMaxScaler\n\nscaler = MinMaxScaler()\nx = pd.DataFrame(scaler.fit_transform(crops_features), columns=crops_features.columns)"
   },
   "outputs": [],
   "source": [
    "from sklearn.preprocessing import MinMaxScaler\n",
    "\n",
    "scaler = MinMaxScaler()\n",
    "x = pd.DataFrame(scaler.fit_transform(crops_features), columns=crops_features.columns)"
   ]
  },
  {
   "cell_type": "code",
   "execution_count": 158,
   "id": "3645b8e9-fbeb-4c68-a11a-2f5e4068e0aa",
   "metadata": {
    "executionCancelledAt": null,
    "executionTime": 58,
    "lastExecutedAt": 1724710234779,
    "lastExecutedByKernel": "1b8b69a8-305d-4022-89d5-5178dad17218",
    "lastScheduledRunId": null,
    "lastSuccessfullyExecutedCode": "x.head()",
    "outputsMetadata": {
     "0": {
      "height": 196,
      "type": "dataFrame"
     }
    }
   },
   "outputs": [
    {
     "data": {
      "application/com.datacamp.data-table.v2+json": {
       "table": {
        "data": {
         "K": [
          43,
          41,
          44,
          40,
          42
         ],
         "N": [
          90,
          85,
          60,
          74,
          78
         ],
         "P": [
          42,
          58,
          55,
          35,
          42
         ],
         "index": [
          0,
          1,
          2,
          3,
          4
         ],
         "ph": [
          6.502985292,
          7.038096361,
          7.840207144,
          6.980400905,
          7.628472891
         ]
        },
        "schema": {
         "fields": [
          {
           "name": "index",
           "type": "integer"
          },
          {
           "name": "N",
           "type": "integer"
          },
          {
           "name": "P",
           "type": "integer"
          },
          {
           "name": "K",
           "type": "integer"
          },
          {
           "name": "ph",
           "type": "number"
          }
         ],
         "pandas_version": "1.4.0",
         "primaryKey": [
          "index"
         ]
        }
       },
       "total_rows": 5,
       "truncation_type": null
      },
      "text/html": [
       "<div>\n",
       "<style scoped>\n",
       "    .dataframe tbody tr th:only-of-type {\n",
       "        vertical-align: middle;\n",
       "    }\n",
       "\n",
       "    .dataframe tbody tr th {\n",
       "        vertical-align: top;\n",
       "    }\n",
       "\n",
       "    .dataframe thead th {\n",
       "        text-align: right;\n",
       "    }\n",
       "</style>\n",
       "<table border=\"1\" class=\"dataframe\">\n",
       "  <thead>\n",
       "    <tr style=\"text-align: right;\">\n",
       "      <th></th>\n",
       "      <th>N</th>\n",
       "      <th>P</th>\n",
       "      <th>K</th>\n",
       "      <th>ph</th>\n",
       "    </tr>\n",
       "  </thead>\n",
       "  <tbody>\n",
       "    <tr>\n",
       "      <th>0</th>\n",
       "      <td>90</td>\n",
       "      <td>42</td>\n",
       "      <td>43</td>\n",
       "      <td>6.502985</td>\n",
       "    </tr>\n",
       "    <tr>\n",
       "      <th>1</th>\n",
       "      <td>85</td>\n",
       "      <td>58</td>\n",
       "      <td>41</td>\n",
       "      <td>7.038096</td>\n",
       "    </tr>\n",
       "    <tr>\n",
       "      <th>2</th>\n",
       "      <td>60</td>\n",
       "      <td>55</td>\n",
       "      <td>44</td>\n",
       "      <td>7.840207</td>\n",
       "    </tr>\n",
       "    <tr>\n",
       "      <th>3</th>\n",
       "      <td>74</td>\n",
       "      <td>35</td>\n",
       "      <td>40</td>\n",
       "      <td>6.980401</td>\n",
       "    </tr>\n",
       "    <tr>\n",
       "      <th>4</th>\n",
       "      <td>78</td>\n",
       "      <td>42</td>\n",
       "      <td>42</td>\n",
       "      <td>7.628473</td>\n",
       "    </tr>\n",
       "  </tbody>\n",
       "</table>\n",
       "</div>"
      ],
      "text/plain": [
       "    N   P   K        ph\n",
       "0  90  42  43  6.502985\n",
       "1  85  58  41  7.038096\n",
       "2  60  55  44  7.840207\n",
       "3  74  35  40  6.980401\n",
       "4  78  42  42  7.628473"
      ]
     },
     "execution_count": 158,
     "metadata": {},
     "output_type": "execute_result"
    }
   ],
   "source": [
    "x.head()"
   ]
  },
  {
   "cell_type": "code",
   "execution_count": 92,
   "id": "462a0331-e94b-4e5d-aee8-6db8e1134f2c",
   "metadata": {
    "executionCancelledAt": null,
    "executionTime": 16,
    "lastExecutedAt": 1724703115062,
    "lastExecutedByKernel": "1b8b69a8-305d-4022-89d5-5178dad17218",
    "lastScheduledRunId": null,
    "lastSuccessfullyExecutedCode": "y.head()",
    "outputsMetadata": {
     "0": {
      "height": 196,
      "type": "dataFrame"
     }
    }
   },
   "outputs": [
    {
     "data": {
      "application/com.datacamp.data-table.v2+json": {
       "table": {
        "data": {
         "crop": [
          "rice",
          "rice",
          "rice",
          "rice",
          "rice"
         ],
         "index": [
          0,
          1,
          2,
          3,
          4
         ]
        },
        "schema": {
         "fields": [
          {
           "name": "index",
           "type": "integer"
          },
          {
           "name": "crop",
           "type": "string"
          }
         ],
         "pandas_version": "1.4.0",
         "primaryKey": [
          "index"
         ]
        }
       },
       "total_rows": 5,
       "truncation_type": null
      },
      "text/html": [
       "<div>\n",
       "<style scoped>\n",
       "    .dataframe tbody tr th:only-of-type {\n",
       "        vertical-align: middle;\n",
       "    }\n",
       "\n",
       "    .dataframe tbody tr th {\n",
       "        vertical-align: top;\n",
       "    }\n",
       "\n",
       "    .dataframe thead th {\n",
       "        text-align: right;\n",
       "    }\n",
       "</style>\n",
       "<table border=\"1\" class=\"dataframe\">\n",
       "  <thead>\n",
       "    <tr style=\"text-align: right;\">\n",
       "      <th></th>\n",
       "      <th>crop</th>\n",
       "    </tr>\n",
       "  </thead>\n",
       "  <tbody>\n",
       "    <tr>\n",
       "      <th>0</th>\n",
       "      <td>rice</td>\n",
       "    </tr>\n",
       "    <tr>\n",
       "      <th>1</th>\n",
       "      <td>rice</td>\n",
       "    </tr>\n",
       "    <tr>\n",
       "      <th>2</th>\n",
       "      <td>rice</td>\n",
       "    </tr>\n",
       "    <tr>\n",
       "      <th>3</th>\n",
       "      <td>rice</td>\n",
       "    </tr>\n",
       "    <tr>\n",
       "      <th>4</th>\n",
       "      <td>rice</td>\n",
       "    </tr>\n",
       "  </tbody>\n",
       "</table>\n",
       "</div>"
      ],
      "text/plain": [
       "   crop\n",
       "0  rice\n",
       "1  rice\n",
       "2  rice\n",
       "3  rice\n",
       "4  rice"
      ]
     },
     "execution_count": 92,
     "metadata": {},
     "output_type": "execute_result"
    }
   ],
   "source": [
    "y.head()"
   ]
  },
  {
   "cell_type": "markdown",
   "id": "2db293dc-44ff-4359-b529-4d888575b187",
   "metadata": {},
   "source": [
    "**Exploratory Data Analysis - EDA**"
   ]
  },
  {
   "cell_type": "code",
   "execution_count": 159,
   "id": "5ea2e137-9036-4fad-af48-46b22c71f015",
   "metadata": {
    "executionCancelledAt": null,
    "executionTime": 9,
    "lastExecutedAt": 1724710237776,
    "lastExecutedByKernel": "1b8b69a8-305d-4022-89d5-5178dad17218",
    "lastScheduledRunId": null,
    "lastSuccessfullyExecutedCode": "# correlation of all independent features (numerics) ('N','P','K','ph')\ncorrelation_matrix = x.corr()"
   },
   "outputs": [],
   "source": [
    "# correlation of all independent features (numerics) ('N','P','K','ph')\n",
    "correlation_matrix = x.corr()"
   ]
  },
  {
   "cell_type": "code",
   "execution_count": 160,
   "id": "81f6c2d1-2b45-48c8-bd78-3d95caf8fe5b",
   "metadata": {
    "executionCancelledAt": null,
    "executionTime": 19,
    "lastExecutedAt": 1724710239606,
    "lastExecutedByKernel": "1b8b69a8-305d-4022-89d5-5178dad17218",
    "lastScheduledRunId": null,
    "lastSuccessfullyExecutedCode": "correlation_matrix",
    "outputsMetadata": {
     "0": {
      "height": 171,
      "type": "dataFrame"
     }
    }
   },
   "outputs": [
    {
     "data": {
      "application/com.datacamp.data-table.v2+json": {
       "table": {
        "data": {
         "K": [
          -0.1405118384,
          0.7362322172,
          1,
          -0.1695030982
         ],
         "N": [
          1,
          -0.2314595774,
          -0.1405118384,
          0.0966828462
         ],
         "P": [
          -0.2314595774,
          1,
          0.7362322172,
          -0.1380188935
         ],
         "index": [
          "N",
          "P",
          "K",
          "ph"
         ],
         "ph": [
          0.0966828462,
          -0.1380188935,
          -0.1695030982,
          1
         ]
        },
        "schema": {
         "fields": [
          {
           "name": "index",
           "type": "string"
          },
          {
           "name": "N",
           "type": "number"
          },
          {
           "name": "P",
           "type": "number"
          },
          {
           "name": "K",
           "type": "number"
          },
          {
           "name": "ph",
           "type": "number"
          }
         ],
         "pandas_version": "1.4.0",
         "primaryKey": [
          "index"
         ]
        }
       },
       "total_rows": 4,
       "truncation_type": null
      },
      "text/html": [
       "<div>\n",
       "<style scoped>\n",
       "    .dataframe tbody tr th:only-of-type {\n",
       "        vertical-align: middle;\n",
       "    }\n",
       "\n",
       "    .dataframe tbody tr th {\n",
       "        vertical-align: top;\n",
       "    }\n",
       "\n",
       "    .dataframe thead th {\n",
       "        text-align: right;\n",
       "    }\n",
       "</style>\n",
       "<table border=\"1\" class=\"dataframe\">\n",
       "  <thead>\n",
       "    <tr style=\"text-align: right;\">\n",
       "      <th></th>\n",
       "      <th>N</th>\n",
       "      <th>P</th>\n",
       "      <th>K</th>\n",
       "      <th>ph</th>\n",
       "    </tr>\n",
       "  </thead>\n",
       "  <tbody>\n",
       "    <tr>\n",
       "      <th>N</th>\n",
       "      <td>1.000000</td>\n",
       "      <td>-0.231460</td>\n",
       "      <td>-0.140512</td>\n",
       "      <td>0.096683</td>\n",
       "    </tr>\n",
       "    <tr>\n",
       "      <th>P</th>\n",
       "      <td>-0.231460</td>\n",
       "      <td>1.000000</td>\n",
       "      <td>0.736232</td>\n",
       "      <td>-0.138019</td>\n",
       "    </tr>\n",
       "    <tr>\n",
       "      <th>K</th>\n",
       "      <td>-0.140512</td>\n",
       "      <td>0.736232</td>\n",
       "      <td>1.000000</td>\n",
       "      <td>-0.169503</td>\n",
       "    </tr>\n",
       "    <tr>\n",
       "      <th>ph</th>\n",
       "      <td>0.096683</td>\n",
       "      <td>-0.138019</td>\n",
       "      <td>-0.169503</td>\n",
       "      <td>1.000000</td>\n",
       "    </tr>\n",
       "  </tbody>\n",
       "</table>\n",
       "</div>"
      ],
      "text/plain": [
       "           N         P         K        ph\n",
       "N   1.000000 -0.231460 -0.140512  0.096683\n",
       "P  -0.231460  1.000000  0.736232 -0.138019\n",
       "K  -0.140512  0.736232  1.000000 -0.169503\n",
       "ph  0.096683 -0.138019 -0.169503  1.000000"
      ]
     },
     "execution_count": 160,
     "metadata": {},
     "output_type": "execute_result"
    }
   ],
   "source": [
    "correlation_matrix"
   ]
  },
  {
   "cell_type": "markdown",
   "id": "2a69873e-c3af-480b-964a-3fcb267ba4ef",
   "metadata": {},
   "source": [
    "**P and K has a strong correlation, 0.7362322172**"
   ]
  },
  {
   "cell_type": "code",
   "execution_count": 161,
   "id": "3b5be884-1ea1-45be-bf8d-188f73a92fd4",
   "metadata": {
    "executionCancelledAt": null,
    "executionTime": 399,
    "lastExecutedAt": 1724710242975,
    "lastExecutedByKernel": "1b8b69a8-305d-4022-89d5-5178dad17218",
    "lastScheduledRunId": null,
    "lastSuccessfullyExecutedCode": "import seaborn as sns\n\n# plot of heatmap showing the strenght of correlation between the independent features\nplt.figure(figsize=(10, 8))\nsns.heatmap(correlation_matrix, annot=True, cmap='coolwarm', fmt='.2f', vmin=-1, vmax=1)\nplt.title('Correlation_Matrix')\nplt.show()"
   },
   "outputs": [
    {
     "data": {
      "image/png": "[encoded data removed]",
      "text/plain": [
       "<Figure size 1000x800 with 2 Axes>"
      ]
     },
     "metadata": {
      "image/png": {
       "height": 680,
       "width": 779
      }
     },
     "output_type": "display_data"
    }
   ],
   "source": [
    "import seaborn as sns\n",
    "\n",
    "# plot of heatmap showing the strenght of correlation between the independent features\n",
    "plt.figure(figsize=(10, 8))\n",
    "sns.heatmap(correlation_matrix, annot=True, cmap='coolwarm', fmt='.2f', vmin=-1, vmax=1)\n",
    "plt.title('Correlation_Matrix')\n",
    "plt.show()"
   ]
  },
  {
   "cell_type": "markdown",
   "id": "06ed5cb7-bcc5-4f63-802c-eb874c068834",
   "metadata": {},
   "source": [
    "**Model Development**"
   ]
  },
  {
   "cell_type": "code",
   "execution_count": 162,
   "id": "98f4c9d0-da2a-403a-82b4-d49232929e70",
   "metadata": {
    "executionCancelledAt": null,
    "executionTime": 11,
    "lastExecutedAt": 1724710245931,
    "lastExecutedByKernel": "1b8b69a8-305d-4022-89d5-5178dad17218",
    "lastScheduledRunId": null,
    "lastSuccessfullyExecutedCode": "x_train, x_test, y_train, y_test = train_test_split(x, y, test_size=0.2, random_state=42)"
   },
   "outputs": [],
   "source": [
    "x_train, x_test, y_train, y_test = train_test_split(x, y, test_size=0.2, random_state=42)"
   ]
  },
  {
   "cell_type": "code",
   "execution_count": 163,
   "id": "e87189b2-440c-422e-abc0-5a162f264a5b",
   "metadata": {
    "executionCancelledAt": null,
    "executionTime": 10,
    "lastExecutedAt": 1724710247636,
    "lastExecutedByKernel": "1b8b69a8-305d-4022-89d5-5178dad17218",
    "lastScheduledRunId": null,
    "lastSuccessfullyExecutedCode": "print(x_train.shape)\nprint(y_train.shape)\nprint(x_test.shape)\nprint(y_test.shape)",
    "outputsMetadata": {
     "0": {
      "height": 101,
      "type": "stream"
     }
    }
   },
   "outputs": [
    {
     "name": "stdout",
     "output_type": "stream",
     "text": [
      "(1760, 4)\n",
      "(1760, 1)\n",
      "(440, 4)\n",
      "(440, 1)\n"
     ]
    }
   ],
   "source": [
    "print(x_train.shape)\n",
    "print(y_train.shape)\n",
    "print(x_test.shape)\n",
    "print(y_test.shape)"
   ]
  },
  {
   "cell_type": "code",
   "execution_count": 164,
   "id": "7e561e39-dac6-4bc0-92fb-7fea6fbfbca7",
   "metadata": {
    "executionCancelledAt": null,
    "executionTime": 18,
    "lastExecutedAt": 1724710249484,
    "lastExecutedByKernel": "1b8b69a8-305d-4022-89d5-5178dad17218",
    "lastScheduledRunId": null,
    "lastSuccessfullyExecutedCode": "x_train.head()",
    "outputsMetadata": {
     "0": {
      "height": 196,
      "type": "dataFrame"
     }
    }
   },
   "outputs": [
    {
     "data": {
      "application/com.datacamp.data-table.v2+json": {
       "table": {
        "data": {
         "K": [
          14,
          19,
          25,
          48,
          30
         ],
         "N": [
          17,
          37,
          7,
          101,
          0
         ],
         "P": [
          16,
          79,
          73,
          70,
          17
         ],
         "index": [
          1656,
          752,
          892,
          1041,
          1179
         ],
         "ph": [
          6.625538653,
          7.143942758,
          7.28805662,
          6.012696655,
          6.279133738
         ]
        },
        "schema": {
         "fields": [
          {
           "name": "index",
           "type": "integer"
          },
          {
           "name": "N",
           "type": "integer"
          },
          {
           "name": "P",
           "type": "integer"
          },
          {
           "name": "K",
           "type": "integer"
          },
          {
           "name": "ph",
           "type": "number"
          }
         ],
         "pandas_version": "1.4.0",
         "primaryKey": [
          "index"
         ]
        }
       },
       "total_rows": 5,
       "truncation_type": null
      },
      "text/html": [
       "<div>\n",
       "<style scoped>\n",
       "    .dataframe tbody tr th:only-of-type {\n",
       "        vertical-align: middle;\n",
       "    }\n",
       "\n",
       "    .dataframe tbody tr th {\n",
       "        vertical-align: top;\n",
       "    }\n",
       "\n",
       "    .dataframe thead th {\n",
       "        text-align: right;\n",
       "    }\n",
       "</style>\n",
       "<table border=\"1\" class=\"dataframe\">\n",
       "  <thead>\n",
       "    <tr style=\"text-align: right;\">\n",
       "      <th></th>\n",
       "      <th>N</th>\n",
       "      <th>P</th>\n",
       "      <th>K</th>\n",
       "      <th>ph</th>\n",
       "    </tr>\n",
       "  </thead>\n",
       "  <tbody>\n",
       "    <tr>\n",
       "      <th>1656</th>\n",
       "      <td>17</td>\n",
       "      <td>16</td>\n",
       "      <td>14</td>\n",
       "      <td>6.625539</td>\n",
       "    </tr>\n",
       "    <tr>\n",
       "      <th>752</th>\n",
       "      <td>37</td>\n",
       "      <td>79</td>\n",
       "      <td>19</td>\n",
       "      <td>7.143943</td>\n",
       "    </tr>\n",
       "    <tr>\n",
       "      <th>892</th>\n",
       "      <td>7</td>\n",
       "      <td>73</td>\n",
       "      <td>25</td>\n",
       "      <td>7.288057</td>\n",
       "    </tr>\n",
       "    <tr>\n",
       "      <th>1041</th>\n",
       "      <td>101</td>\n",
       "      <td>70</td>\n",
       "      <td>48</td>\n",
       "      <td>6.012697</td>\n",
       "    </tr>\n",
       "    <tr>\n",
       "      <th>1179</th>\n",
       "      <td>0</td>\n",
       "      <td>17</td>\n",
       "      <td>30</td>\n",
       "      <td>6.279134</td>\n",
       "    </tr>\n",
       "  </tbody>\n",
       "</table>\n",
       "</div>"
      ],
      "text/plain": [
       "        N   P   K        ph\n",
       "1656   17  16  14  6.625539\n",
       "752    37  79  19  7.143943\n",
       "892     7  73  25  7.288057\n",
       "1041  101  70  48  6.012697\n",
       "1179    0  17  30  6.279134"
      ]
     },
     "execution_count": 164,
     "metadata": {},
     "output_type": "execute_result"
    }
   ],
   "source": [
    "x_train.head()"
   ]
  },
  {
   "cell_type": "code",
   "execution_count": 165,
   "id": "1d217344-59f2-4f4b-a21d-ec3e26feff55",
   "metadata": {
    "executionCancelledAt": null,
    "executionTime": null,
    "lastExecutedAt": null,
    "lastExecutedByKernel": null,
    "lastScheduledRunId": null,
    "lastSuccessfullyExecutedCode": null,
    "outputsMetadata": {
     "0": {
      "height": 101,
      "type": "stream"
     }
    }
   },
   "outputs": [
    {
     "name": "stdout",
     "output_type": "stream",
     "text": [
      "F1-score for N: 0.1011\n",
      "F1-score for P: 0.1278\n",
      "F1-score for K: 0.2025\n",
      "F1-score for ph: 0.0453\n"
     ]
    }
   ],
   "source": [
    "# predictive performance of features\n",
    "from sklearn.metrics import f1_score\n",
    "\n",
    "features_dict = {}\n",
    "\n",
    "for feature in [\"N\", \"P\", \"K\", \"ph\"]:\n",
    "    \n",
    "    # creation and training the model with Logistic Regression\n",
    "    log_reg = LogisticRegression(multi_class=\"multinomial\", max_iter=1000, random_state=42)\n",
    "    log_reg.fit(x_train[[feature]], y_train)\n",
    "    \n",
    "    # prediction \n",
    "    y_pred = log_reg.predict(x_test[[feature]])\n",
    "    \n",
    "    # calculate F1-Score\n",
    "    feature_performance = f1_score(y_test, y_pred, average=\"weighted\")\n",
    "    \n",
    "    # store the performance of each feature\n",
    "    features_dict[feature] = feature_performance\n",
    "    \n",
    "    print(f\"F1-score for {feature}: {feature_performance:.4f}\")\n",
    "    \n",
    "    "
   ]
  },
  {
   "cell_type": "markdown",
   "id": "8852274f-0970-4020-8158-75533b8facca",
   "metadata": {},
   "source": [
    "**Comparison of using different types of normalization or none**"
   ]
  },
  {
   "cell_type": "code",
   "execution_count": 124,
   "id": "38ff9540-3ff1-41ef-ae45-674cd69125d9",
   "metadata": {
    "executionCancelledAt": null,
    "executionTime": 11,
    "lastExecutedAt": 1724709787261,
    "lastExecutedByKernel": "1b8b69a8-305d-4022-89d5-5178dad17218",
    "lastScheduledRunId": null,
    "lastSuccessfullyExecutedCode": "features_dict"
   },
   "outputs": [
    {
     "data": {
      "text/plain": [
       "{'N': 0.10110745601353237,\n",
       " 'P': 0.12780698923278647,\n",
       " 'K': 0.2024600300188763,\n",
       " 'ph': 0.04532731061152114}"
      ]
     },
     "execution_count": 124,
     "metadata": {},
     "output_type": "execute_result"
    }
   ],
   "source": [
    "# Without Normalization\n",
    "features_dict"
   ]
  },
  {
   "cell_type": "code",
   "execution_count": 107,
   "id": "50c3c70b-8049-491a-a397-da28f7092abf",
   "metadata": {
    "executionCancelledAt": null,
    "executionTime": 11,
    "lastExecutedAt": 1724709009670,
    "lastExecutedByKernel": "1b8b69a8-305d-4022-89d5-5178dad17218",
    "lastScheduledRunId": null,
    "lastSuccessfullyExecutedCode": "features_dict"
   },
   "outputs": [
    {
     "data": {
      "text/plain": [
       "{'N': 0.0894285098590696,\n",
       " 'P': 0.08557567486516855,\n",
       " 'K': 0.1389167424350493,\n",
       " 'ph': 0.045406635484660444}"
      ]
     },
     "execution_count": 107,
     "metadata": {},
     "output_type": "execute_result"
    }
   ],
   "source": [
    "# Using RobustScaler for normalization\n",
    "features_dict"
   ]
  },
  {
   "cell_type": "code",
   "execution_count": 139,
   "id": "46f3e779-01c9-4747-958c-c9ee2ffcd678",
   "metadata": {
    "executionCancelledAt": null,
    "executionTime": 54,
    "lastExecutedAt": 1724709955259,
    "lastExecutedByKernel": "1b8b69a8-305d-4022-89d5-5178dad17218",
    "lastScheduledRunId": null,
    "lastSuccessfullyExecutedCode": "# Using StandardScaler for normalization\nfeatures_dict"
   },
   "outputs": [
    {
     "data": {
      "text/plain": [
       "{'N': 0.10689900116508289,\n",
       " 'P': 0.08426955444720076,\n",
       " 'K': 0.13831456375684123,\n",
       " 'ph': 0.045464856528065166}"
      ]
     },
     "execution_count": 139,
     "metadata": {},
     "output_type": "execute_result"
    }
   ],
   "source": [
    "# Using StandardScaler for normalization\n",
    "features_dict"
   ]
  },
  {
   "cell_type": "code",
   "execution_count": 153,
   "id": "584cea60-550d-454c-893a-06dc170b9018",
   "metadata": {
    "executionCancelledAt": null,
    "executionTime": 51,
    "lastExecutedAt": 1724710058085,
    "lastExecutedByKernel": "1b8b69a8-305d-4022-89d5-5178dad17218",
    "lastScheduledRunId": null,
    "lastSuccessfullyExecutedCode": "# Using MinMaxScaler for normalization\nfeatures_dict"
   },
   "outputs": [
    {
     "data": {
      "text/plain": [
       "{'N': 0.0804495236318966,\n",
       " 'P': 0.06302234386698227,\n",
       " 'K': 0.09279573968487996,\n",
       " 'ph': 0.032576899098197276}"
      ]
     },
     "execution_count": 153,
     "metadata": {},
     "output_type": "execute_result"
    }
   ],
   "source": [
    "# Using MinMaxScaler for normalization\n",
    "features_dict"
   ]
  },
  {
   "cell_type": "markdown",
   "id": "1c2111ca-0490-4c22-8e7a-c8e68413019e",
   "metadata": {},
   "source": [
    "### Finding the best feature for this model, based on F1-Score"
   ]
  },
  {
   "cell_type": "code",
   "execution_count": 172,
   "id": "2dfacf69-32c1-4dcd-aa8d-d82d9082ec2b",
   "metadata": {
    "executionCancelledAt": null,
    "executionTime": 46,
    "lastExecutedAt": 1724710520599,
    "lastExecutedByKernel": "1b8b69a8-305d-4022-89d5-5178dad17218",
    "lastScheduledRunId": null,
    "lastSuccessfullyExecutedCode": "best_feature = max(features_dict, key=features_dict.get)\nbest_performance = features_dict[best_feature]"
   },
   "outputs": [],
   "source": [
    "best_feature = max(features_dict, key=features_dict.get)\n",
    "best_performance = features_dict[best_feature]"
   ]
  },
  {
   "cell_type": "code",
   "execution_count": 169,
   "id": "2708f6ec-9fbb-46e0-92d0-151a4dad906a",
   "metadata": {
    "executionCancelledAt": null,
    "executionTime": 11,
    "lastExecutedAt": 1724710456011,
    "lastExecutedByKernel": "1b8b69a8-305d-4022-89d5-5178dad17218",
    "lastScheduledRunId": null,
    "lastSuccessfullyExecutedCode": "best_feature"
   },
   "outputs": [
    {
     "data": {
      "text/plain": [
       "'K'"
      ]
     },
     "execution_count": 169,
     "metadata": {},
     "output_type": "execute_result"
    }
   ],
   "source": [
    "best_feature"
   ]
  },
  {
   "cell_type": "code",
   "execution_count": 171,
   "id": "49f924fb-5504-4fcf-b040-b676f85f5cd6",
   "metadata": {
    "executionCancelledAt": null,
    "executionTime": 11,
    "lastExecutedAt": 1724710502044,
    "lastExecutedByKernel": "1b8b69a8-305d-4022-89d5-5178dad17218",
    "lastScheduledRunId": null,
    "lastSuccessfullyExecutedCode": "features_dict[best_feature]"
   },
   "outputs": [
    {
     "data": {
      "text/plain": [
       "0.2024600300188763"
      ]
     },
     "execution_count": 171,
     "metadata": {},
     "output_type": "execute_result"
    }
   ],
   "source": [
    "features_dict[best_feature]"
   ]
  },
  {
   "cell_type": "code",
   "execution_count": 173,
   "id": "de635613-d34a-4c53-8d09-98717797dfe1",
   "metadata": {
    "executionCancelledAt": null,
    "executionTime": 11,
    "lastExecutedAt": 1724710635962,
    "lastExecutedByKernel": "1b8b69a8-305d-4022-89d5-5178dad17218",
    "lastScheduledRunId": null,
    "lastSuccessfullyExecutedCode": "best_predictive_feature = {best_feature: best_performance}"
   },
   "outputs": [],
   "source": [
    "best_predictive_feature = {best_feature: best_performance}"
   ]
  },
  {
   "cell_type": "code",
   "execution_count": 193,
   "id": "9b7b53a9-1a51-468f-8e97-e7afb78f7732",
   "metadata": {
    "executionCancelledAt": null,
    "executionTime": 10,
    "lastExecutedAt": 1724710859690,
    "lastExecutedByKernel": "1b8b69a8-305d-4022-89d5-5178dad17218",
    "lastScheduledRunId": null,
    "lastSuccessfullyExecutedCode": "print(f\"Best feature and its F1-Score in this model, using Logistic Regression and with no normalization:                   {best_predictive_feature}\")",
    "outputsMetadata": {
     "0": {
      "height": 59,
      "type": "stream"
     }
    }
   },
   "outputs": [
    {
     "name": "stdout",
     "output_type": "stream",
     "text": [
      "Best feature and its F1-Score in this model, using Logistic Regression and with no normalization:                   {'K': 0.2024600300188763}\n"
     ]
    }
   ],
   "source": [
    "print(f\"Best feature and its F1-Score in this model, using Logistic Regression and with no normalization:                   {best_predictive_feature}\")"
   ]
  },
  {
   "cell_type": "markdown",
   "id": "d1e97606",
   "metadata": {},
   "source": [
    "#"
   ]
  },
  {
   "cell_type": "markdown",
   "id": "2f311197",
   "metadata": {},
   "source": [
    "#"
   ]
  },
  {
   "cell_type": "markdown",
   "id": "ce7580e5-279c-42e3-af26-c79742253865",
   "metadata": {},
   "source": [
    "# CONCLUSION"
   ]
  },
  {
   "cell_type": "markdown",
   "id": "3e765439-860b-4abb-914d-f48d3e6f13c6",
   "metadata": {},
   "source": [
    "### The machine learning technique chosen, which was \"Logistic Regression,\" did not result in a good F1-Score based on the characteristics of the dataset and the type of training without cross-validation.\n",
    "### The results are not satisfactory for building a model with these specific characteristics.\n",
    "### Other approaches should be considered in this case, such as trying different machine learning classification algorithms, using cross-validation during model training, or even exploring the possibility of augmenting the dataset to achieve different results."
   ]
  }
 ],
 "metadata": {
  "colab": {
   "name": "Welcome to DataCamp Workspaces.ipynb",
   "provenance": []
  },
  "kernelspec": {
   "display_name": "Python 3 (ipykernel)",
   "language": "python",
   "name": "python3"
  },
  "language_info": {
   "codemirror_mode": {
    "name": "ipython",
    "version": 3
   },
   "file_extension": ".py",
   "mimetype": "text/x-python",
   "name": "python",
   "nbconvert_exporter": "python",
   "pygments_lexer": "ipython3",
   "version": "3.11.5"
  }
 },
 "nbformat": 4,
 "nbformat_minor": 5
}
